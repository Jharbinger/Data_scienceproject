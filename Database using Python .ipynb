{
 "cells": [
  {
   "cell_type": "code",
   "execution_count": 1,
   "id": "4d5ff6e5",
   "metadata": {},
   "outputs": [
    {
     "name": "stdout",
     "output_type": "stream",
     "text": [
      "Requirement already satisfied: mysql-connector-python in c:\\users\\jay.borade\\anaconda3\\lib\\site-packages (8.0.25)\n",
      "Requirement already satisfied: protobuf>=3.0.0 in c:\\users\\jay.borade\\anaconda3\\lib\\site-packages (from mysql-connector-python) (3.17.3)\n",
      "Requirement already satisfied: six>=1.9 in c:\\users\\jay.borade\\anaconda3\\lib\\site-packages (from protobuf>=3.0.0->mysql-connector-python) (1.16.0)\n"
     ]
    }
   ],
   "source": [
    "! pip install mysql-connector-python\n"
   ]
  },
  {
   "cell_type": "code",
   "execution_count": 2,
   "id": "22a3842d",
   "metadata": {},
   "outputs": [
    {
     "name": "stdout",
     "output_type": "stream",
     "text": [
      "<mysql.connector.connection.MySQLConnection object at 0x000001E12881F520>\n"
     ]
    }
   ],
   "source": [
    "import mysql.connector\n",
    "mydbconnect=mysql.connector.connect(\n",
    "host=\"localhost\",\n",
    "user=\"root\",\n",
    "password=\"root\")\n",
    "print(mydbconnect)"
   ]
  },
  {
   "cell_type": "code",
   "execution_count": 5,
   "id": "259f5f45",
   "metadata": {},
   "outputs": [
    {
     "name": "stdout",
     "output_type": "stream",
     "text": [
      "<mysql.connector.connection.MySQLConnection object at 0x000001E1289329D0>\n",
      "('am_org_9760fabaeed84186b01d5e4195122875',)\n",
      "('am_org_tenant',)\n",
      "('anonymoose',)\n",
      "('edubridge_session',)\n",
      "('information_schema',)\n",
      "('multitenant',)\n",
      "('mysql',)\n",
      "('performance_schema',)\n",
      "('pollsapp',)\n",
      "('python_training',)\n",
      "('record',)\n",
      "('sakila',)\n",
      "('sample',)\n",
      "('sys',)\n",
      "('world',)\n"
     ]
    }
   ],
   "source": [
    "import mysql.connector\n",
    "mydbconnect=mysql.connector.connect(\n",
    "host=\"localhost\",\n",
    "user=\"root\",\n",
    "password=\"root\")\n",
    "# print(mydbconnect)\n",
    "\n",
    "mycursor=mydbconnect.cursor()\n",
    "# mycursor.execute(\"Create Database Edubridge_Session\")\n",
    "mycursor.execute(\"Show Databases\")\n",
    "for x in mycursor:\n",
    "    print(x)"
   ]
  },
  {
   "cell_type": "code",
   "execution_count": 16,
   "id": "c85e1219",
   "metadata": {},
   "outputs": [
    {
     "name": "stdout",
     "output_type": "stream",
     "text": [
      "Sorry Duplicate entry\n"
     ]
    }
   ],
   "source": [
    "import mysql.connector\n",
    "mydbconnect=mysql.connector.connect(\n",
    "host=\"localhost\",\n",
    "user=\"root\",\n",
    "password=\"root\")\n",
    "try:\n",
    "    mycursor=mydbconnect.cursor()\n",
    "    mycursor.execute(\"Create Database Edubridge_Session_python1\")\n",
    "    if True:\n",
    "        print(\"Database Successfully Created\")\n",
    "except Exception:\n",
    "    print(\"Sorry Duplicate entry\")"
   ]
  },
  {
   "cell_type": "code",
   "execution_count": 13,
   "id": "9c769807",
   "metadata": {},
   "outputs": [
    {
     "name": "stdout",
     "output_type": "stream",
     "text": [
      "Sorry Duplicate entry\n"
     ]
    }
   ],
   "source": [
    "import mysql.connector\n",
    "mydbconnect=mysql.connector.connect(\n",
    "host=\"localhost\",\n",
    "user=\"root\",\n",
    "password=\"root\",\n",
    "database=\"Edubridge_Session_python1\")\n",
    "try:\n",
    "    mycursor=mydbconnect.cursor()\n",
    "    mycursor.execute(\"Create Database Edubridge_Session_python1\")\n",
    "    if True:\n",
    "        print(\"Database Successfully Created\")\n",
    "except Exception:\n",
    "    print(\"Sorry Duplicate entry\")\n"
   ]
  },
  {
   "cell_type": "code",
   "execution_count": 15,
   "id": "0458455d",
   "metadata": {},
   "outputs": [
    {
     "name": "stdout",
     "output_type": "stream",
     "text": [
      "Table Successfully Created\n"
     ]
    }
   ],
   "source": [
    "import mysql.connector\n",
    "mydbconnect=mysql.connector.connect(\n",
    "host=\"localhost\",\n",
    "user=\"root\",\n",
    "password=\"root\",\n",
    "database=\"Edubridge_Session_python1\")\n",
    "try:\n",
    "    mycursor=mydbconnect.cursor()\n",
    "    mycursor.execute(\"Create Table students(name varchar(255),address varchar(255))\")\n",
    "    if True:\n",
    "        print(\"Table Successfully Created\")\n",
    "except Exception:\n",
    "    print(\"Sorry Duplicate entry\")\n"
   ]
  },
  {
   "cell_type": "code",
   "execution_count": 20,
   "id": "c14b3fd1",
   "metadata": {},
   "outputs": [
    {
     "name": "stdout",
     "output_type": "stream",
     "text": [
      "('employees',)\n",
      "('students',)\n"
     ]
    }
   ],
   "source": [
    "import mysql.connector\n",
    "mydbconnect=mysql.connector.connect(\n",
    "host=\"localhost\",\n",
    "user=\"root\",\n",
    "password=\"root\",\n",
    "database=\"Edubridge_Session_python1\")\n",
    "mycursor=mydbconnect.cursor()\n",
    "mycursor.execute(\"show tables\")\n",
    "for x in mycursor:\n",
    "    print(x)\n"
   ]
  },
  {
   "cell_type": "code",
   "execution_count": 19,
   "id": "743aed5a",
   "metadata": {},
   "outputs": [
    {
     "name": "stdout",
     "output_type": "stream",
     "text": [
      "Table Successfully Created\n"
     ]
    }
   ],
   "source": [
    "import mysql.connector\n",
    "mydbconnect=mysql.connector.connect(\n",
    "host=\"localhost\",\n",
    "user=\"root\",\n",
    "password=\"root\",\n",
    "database=\"Edubridge_Session_python1\")\n",
    "try:\n",
    "    mycursor=mydbconnect.cursor()\n",
    "    mycursor.execute(\"Create Table employees(id int auto_increment primary key,name varchar(255),address varchar(255))\")\n",
    "    if True:\n",
    "        print(\"Table Successfully Created\")\n",
    "except Exception:\n",
    "    print(\"Sorry Duplicate entry\")"
   ]
  },
  {
   "cell_type": "code",
   "execution_count": 23,
   "id": "0155693a",
   "metadata": {},
   "outputs": [
    {
     "name": "stdout",
     "output_type": "stream",
     "text": [
      "1  record Inserted\n"
     ]
    }
   ],
   "source": [
    "import mysql.connector\n",
    "mydbconnect=mysql.connector.connect(\n",
    "host=\"localhost\",\n",
    "user=\"root\",\n",
    "password=\"root\",\n",
    "database=\"Edubridge_Session_python1\")\n",
    "mycursor=mydbconnect.cursor()\n",
    "sql=\"insert into employees(name,address) values (%s,%s)\"\n",
    "val=(\"Jay\",\"Mumbai\")\n",
    "mycursor.execute(sql,val)\n",
    "mydbconnect.commit()\n",
    "print(mycursor.rowcount,\" record Inserted\")"
   ]
  },
  {
   "cell_type": "code",
   "execution_count": 5,
   "id": "cb8d365f",
   "metadata": {},
   "outputs": [
    {
     "name": "stdout",
     "output_type": "stream",
     "text": [
      "4  record Inserted\n"
     ]
    }
   ],
   "source": [
    "import mysql.connector\n",
    "mydbconnect=mysql.connector.connect(\n",
    "host=\"localhost\",\n",
    "user=\"root\",\n",
    "password=\"root\",\n",
    "database=\"Edubridge_Session_python1\")\n",
    "mycursor=mydbconnect.cursor()\n",
    "sql=\"insert into employees(name,address) values (%s,%s)\"\n",
    "val=[(\"Sujay\",\"Mumbai\"),\n",
    "     (\"Vijay\",\"Kerala\"),\n",
    "     (\"Aakash\",\"Banglore\"),\n",
    "     (\"Raju\",\"Delhi\"),\n",
    "    ]\n",
    "mycursor.executemany(sql,val)\n",
    "mydbconnect.commit()\n",
    "print(mycursor.rowcount,\" record Inserted\")"
   ]
  },
  {
   "cell_type": "code",
   "execution_count": 7,
   "id": "cbcf7b83",
   "metadata": {},
   "outputs": [
    {
     "name": "stdout",
     "output_type": "stream",
     "text": [
      "(1, 'Jay', 'Mumbai')\n",
      "(2, 'Jay', 'Mumbai')\n",
      "(3, 'Sujay', 'Mumbai')\n",
      "(4, 'Vijay', 'Kerala')\n",
      "(5, 'Aakash', 'Banglore')\n",
      "(6, 'Raju', 'Delhi')\n"
     ]
    }
   ],
   "source": [
    "import mysql.connector\n",
    "mydbconnect=mysql.connector.connect(\n",
    "host=\"localhost\",\n",
    "user=\"root\",\n",
    "password=\"root\",\n",
    "database=\"Edubridge_Session_python1\")\n",
    "mycursor=mydbconnect.cursor()\n",
    "mycursor.execute(\"select * from employees\")\n",
    "for x in mycursor:\n",
    "    print(x)\n"
   ]
  },
  {
   "cell_type": "code",
   "execution_count": 9,
   "id": "386569c2",
   "metadata": {},
   "outputs": [
    {
     "name": "stdout",
     "output_type": "stream",
     "text": [
      "(1, 'Jay', 'Mumbai')\n"
     ]
    }
   ],
   "source": [
    "import mysql.connector\n",
    "mydbconnect=mysql.connector.connect(\n",
    "host=\"localhost\",\n",
    "user=\"root\",\n",
    "password=\"root\",\n",
    "database=\"Edubridge_Session_python1\")\n",
    "mycursor=mydbconnect.cursor()\n",
    "mycursor.execute(\"select * from employees\")\n",
    "myresult=mycursor.fetchone()\n",
    "print(myresult)"
   ]
  },
  {
   "cell_type": "code",
   "execution_count": 10,
   "id": "f924867d",
   "metadata": {},
   "outputs": [
    {
     "data": {
      "text/plain": [
       "[(2, 'Jay', 'Mumbai'), (3, 'Sujay', 'Mumbai'), (4, 'Vijay', 'Kerala')]"
      ]
     },
     "execution_count": 10,
     "metadata": {},
     "output_type": "execute_result"
    }
   ],
   "source": [
    "mycursor.fetchmany(3)"
   ]
  },
  {
   "cell_type": "code",
   "execution_count": 11,
   "id": "c53c90c0",
   "metadata": {},
   "outputs": [
    {
     "data": {
      "text/plain": [
       "[(5, 'Aakash', 'Banglore'), (6, 'Raju', 'Delhi')]"
      ]
     },
     "execution_count": 11,
     "metadata": {},
     "output_type": "execute_result"
    }
   ],
   "source": [
    "mycursor.fetchall()"
   ]
  },
  {
   "cell_type": "code",
   "execution_count": 13,
   "id": "842dbf09",
   "metadata": {},
   "outputs": [
    {
     "name": "stdout",
     "output_type": "stream",
     "text": [
      "('Jay',)\n",
      "('Jay',)\n",
      "('Sujay',)\n",
      "('Vijay',)\n",
      "('Aakash',)\n",
      "('Raju',)\n"
     ]
    }
   ],
   "source": [
    "import mysql.connector\n",
    "mydbconnect=mysql.connector.connect(\n",
    "host=\"localhost\",\n",
    "user=\"root\",\n",
    "password=\"root\",\n",
    "database=\"Edubridge_Session_python1\")\n",
    "mycursor=mydbconnect.cursor()\n",
    "mycursor.execute(\"select name from employees \")\n",
    "for x in mycursor:\n",
    "    print(x)\n",
    "# myresult=mycursor.fetchone()\n",
    "# print(myresult)"
   ]
  },
  {
   "cell_type": "code",
   "execution_count": 14,
   "id": "b118ae0c",
   "metadata": {},
   "outputs": [
    {
     "name": "stdout",
     "output_type": "stream",
     "text": [
      "(1, 'Jay', 'Mumbai')\n",
      "(2, 'Jay', 'Mumbai')\n",
      "(3, 'Sujay', 'Mumbai')\n"
     ]
    }
   ],
   "source": [
    "import mysql.connector\n",
    "mydbconnect=mysql.connector.connect(\n",
    "host=\"localhost\",\n",
    "user=\"root\",\n",
    "password=\"root\",\n",
    "database=\"Edubridge_Session_python1\")\n",
    "mycursor=mydbconnect.cursor()\n",
    "mycursor.execute(\"select * from employees where address='Mumbai'\")\n",
    "for x in mycursor:\n",
    "    print(x)\n",
    "# myresult=mycursor.fetchone()\n",
    "# print(myresult)"
   ]
  },
  {
   "cell_type": "code",
   "execution_count": 16,
   "id": "1bb4c698",
   "metadata": {},
   "outputs": [
    {
     "name": "stdout",
     "output_type": "stream",
     "text": [
      "(1, 'Jay', 'Mumbai')\n"
     ]
    }
   ],
   "source": [
    "import mysql.connector\n",
    "mydbconnect=mysql.connector.connect(\n",
    "host=\"localhost\",\n",
    "user=\"root\",\n",
    "password=\"root\",\n",
    "database=\"Edubridge_Session_python1\")\n",
    "mycursor=mydbconnect.cursor()\n",
    "mycursor.execute(\"select * from employees where address='Mumbai'\")\n",
    "myresult=mycursor.fetchone()\n",
    "print(myresult)"
   ]
  },
  {
   "cell_type": "code",
   "execution_count": 17,
   "id": "0bdbb97e",
   "metadata": {},
   "outputs": [
    {
     "name": "stdout",
     "output_type": "stream",
     "text": [
      "[(1, 'Jay', 'Mumbai'), (2, 'Jay', 'Mumbai')]\n"
     ]
    }
   ],
   "source": [
    "import mysql.connector\n",
    "mydbconnect=mysql.connector.connect(\n",
    "host=\"localhost\",\n",
    "user=\"root\",\n",
    "password=\"root\",\n",
    "database=\"Edubridge_Session_python1\")\n",
    "mycursor=mydbconnect.cursor()\n",
    "mycursor.execute(\"select * from employees where address='Mumbai'\")\n",
    "myresult=mycursor.fetchmany(2)\n",
    "print(myresult)"
   ]
  },
  {
   "cell_type": "code",
   "execution_count": 18,
   "id": "62909b8d",
   "metadata": {},
   "outputs": [
    {
     "name": "stdout",
     "output_type": "stream",
     "text": [
      "[(1, 'Jay', 'Mumbai'), (2, 'Jay', 'Mumbai'), (3, 'Sujay', 'Mumbai')]\n"
     ]
    }
   ],
   "source": [
    "import mysql.connector\n",
    "mydbconnect=mysql.connector.connect(\n",
    "host=\"localhost\",\n",
    "user=\"root\",\n",
    "password=\"root\",\n",
    "database=\"Edubridge_Session_python1\")\n",
    "mycursor=mydbconnect.cursor()\n",
    "mycursor.execute(\"select * from employees where address='Mumbai'\")\n",
    "myresult=mycursor.fetchall()\n",
    "print(myresult)"
   ]
  },
  {
   "cell_type": "code",
   "execution_count": 19,
   "id": "94a96a99",
   "metadata": {},
   "outputs": [
    {
     "name": "stdout",
     "output_type": "stream",
     "text": [
      "[(1, 'Jay', 'Mumbai'), (2, 'Jay', 'Mumbai'), (3, 'Sujay', 'Mumbai'), (4, 'Vijay', 'Kerala')]\n"
     ]
    }
   ],
   "source": [
    "import mysql.connector\n",
    "mydbconnect=mysql.connector.connect(\n",
    "host=\"localhost\",\n",
    "user=\"root\",\n",
    "password=\"root\",\n",
    "database=\"Edubridge_Session_python1\")\n",
    "mycursor=mydbconnect.cursor()\n",
    "mycursor.execute(\"select * from employees where name like '%Jay%'\")\n",
    "myresult=mycursor.fetchall()\n",
    "print(myresult)"
   ]
  },
  {
   "cell_type": "code",
   "execution_count": 20,
   "id": "15364bea",
   "metadata": {},
   "outputs": [
    {
     "name": "stdout",
     "output_type": "stream",
     "text": [
      "[(5, 'Aakash', 'Banglore'), (1, 'Jay', 'Mumbai'), (2, 'Jay', 'Mumbai'), (6, 'Raju', 'Delhi'), (3, 'Sujay', 'Mumbai'), (4, 'Vijay', 'Kerala')]\n"
     ]
    }
   ],
   "source": [
    "import mysql.connector\n",
    "mydbconnect=mysql.connector.connect(\n",
    "host=\"localhost\",\n",
    "user=\"root\",\n",
    "password=\"root\",\n",
    "database=\"Edubridge_Session_python1\")\n",
    "mycursor=mydbconnect.cursor()\n",
    "mycursor.execute(\"select * from employees order by name\")\n",
    "myresult=mycursor.fetchall()\n",
    "print(myresult)"
   ]
  },
  {
   "cell_type": "code",
   "execution_count": 21,
   "id": "e54bbc7f",
   "metadata": {},
   "outputs": [
    {
     "name": "stdout",
     "output_type": "stream",
     "text": [
      "[(4, 'Vijay', 'Kerala'), (3, 'Sujay', 'Mumbai'), (6, 'Raju', 'Delhi'), (1, 'Jay', 'Mumbai'), (2, 'Jay', 'Mumbai'), (5, 'Aakash', 'Banglore')]\n"
     ]
    }
   ],
   "source": [
    "import mysql.connector\n",
    "mydbconnect=mysql.connector.connect(\n",
    "host=\"localhost\",\n",
    "user=\"root\",\n",
    "password=\"root\",\n",
    "database=\"Edubridge_Session_python1\")\n",
    "mycursor=mydbconnect.cursor()\n",
    "mycursor.execute(\"select * from employees order by name desc\")\n",
    "myresult=mycursor.fetchall()\n",
    "print(myresult)"
   ]
  },
  {
   "cell_type": "code",
   "execution_count": null,
   "id": "78acaa3a",
   "metadata": {},
   "outputs": [],
   "source": []
  },
  {
   "cell_type": "code",
   "execution_count": null,
   "id": "5ea47c34",
   "metadata": {},
   "outputs": [],
   "source": []
  },
  {
   "cell_type": "code",
   "execution_count": null,
   "id": "f21509e4",
   "metadata": {},
   "outputs": [],
   "source": []
  },
  {
   "cell_type": "code",
   "execution_count": null,
   "id": "66207438",
   "metadata": {},
   "outputs": [],
   "source": []
  },
  {
   "cell_type": "code",
   "execution_count": null,
   "id": "17cc6283",
   "metadata": {},
   "outputs": [],
   "source": []
  }
 ],
 "metadata": {
  "kernelspec": {
   "display_name": "Python 3 (ipykernel)",
   "language": "python",
   "name": "python3"
  },
  "language_info": {
   "codemirror_mode": {
    "name": "ipython",
    "version": 3
   },
   "file_extension": ".py",
   "mimetype": "text/x-python",
   "name": "python",
   "nbconvert_exporter": "python",
   "pygments_lexer": "ipython3",
   "version": "3.8.12"
  }
 },
 "nbformat": 4,
 "nbformat_minor": 5
}
